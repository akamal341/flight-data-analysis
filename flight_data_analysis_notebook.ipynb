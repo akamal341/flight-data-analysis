{
 "cells": [
  {
   "cell_type": "markdown",
   "id": "5ad2e821",
   "metadata": {},
   "source": [
    "# Flight Data Analysis - Department of Transportation\n",
    "\n",
    "## Project Overview\n",
    "\n",
    "This mini project involves analyzing flight data from the Department of Transportation for the year 2015. The analysis includes data cleaning, merging with airport and airline information, and performing detailed analysis on flight delays."
   ]
  },
  {
   "cell_type": "markdown",
   "id": "05fa1bcb",
   "metadata": {},
   "source": [
    "## Project Description\n",
    "\n",
    "This project involves the following steps:\n",
    "1. **Data Loading and Cleaning:** Load and preprocess flight data to remove missing values, filter relevant airports, and handle date-time values.\n",
    "2. **Flight Counts per Airport:** Calculate the number of departing flights per airport.\n",
    "3. **Top Airlines by Number of Flights and Delay Percentage:** Identify top airlines based on number of flights and delay percentages.\n",
    "4. **Monthly Percentage of Delays per Airport:** Calculate the monthly percentage of delays for each of the chosen airports.\n"
   ]
  },
  {
   "cell_type": "markdown",
   "id": "30b4c7fc",
   "metadata": {},
   "source": [
    "## Data Sources\n",
    "\n",
    "The dataset consists of flight data for the year 2015, provided by the Department of Transportation. The data includes:\n",
    "- Flight details\n",
    "- Airport information\n",
    "- Airline information"
   ]
  },
  {
   "cell_type": "markdown",
   "id": "5923c6d2",
   "metadata": {},
   "source": [
    "### 1. Loading and Cleaning Data\n",
    "\n",
    "The `data_preprocess` function performs the initial data cleaning and preprocessing steps, including filtering specific airports, handling delays, and converting data types."
   ]
  },
  {
   "cell_type": "code",
   "execution_count": 2,
   "id": "08542caa",
   "metadata": {},
   "outputs": [
    {
     "name": "stdout",
     "output_type": "stream",
     "text": [
      "DataFrame Shape after cleaning: (535744, 7)\n"
     ]
    },
    {
     "data": {
      "text/html": [
       "<div>\n",
       "<style scoped>\n",
       "    .dataframe tbody tr th:only-of-type {\n",
       "        vertical-align: middle;\n",
       "    }\n",
       "\n",
       "    .dataframe tbody tr th {\n",
       "        vertical-align: top;\n",
       "    }\n",
       "\n",
       "    .dataframe thead th {\n",
       "        text-align: right;\n",
       "    }\n",
       "</style>\n",
       "<table border=\"1\" class=\"dataframe\">\n",
       "  <thead>\n",
       "    <tr style=\"text-align: right;\">\n",
       "      <th></th>\n",
       "      <th>ORIGIN_AIRPORT</th>\n",
       "      <th>DESTINATION_AIRPORT</th>\n",
       "      <th>AIRLINE</th>\n",
       "      <th>FLIGHT_NUMBER</th>\n",
       "      <th>SCHEDULED_DEPARTURE</th>\n",
       "      <th>DEPARTURE_DELAY</th>\n",
       "      <th>IS_DELAYED</th>\n",
       "    </tr>\n",
       "  </thead>\n",
       "  <tbody>\n",
       "    <tr>\n",
       "      <th>0</th>\n",
       "      <td>LAX</td>\n",
       "      <td>PBI</td>\n",
       "      <td>AA</td>\n",
       "      <td>2336</td>\n",
       "      <td>2015-01-01 00:10:00</td>\n",
       "      <td>-8.0</td>\n",
       "      <td>False</td>\n",
       "    </tr>\n",
       "    <tr>\n",
       "      <th>1</th>\n",
       "      <td>SFO</td>\n",
       "      <td>CLT</td>\n",
       "      <td>US</td>\n",
       "      <td>840</td>\n",
       "      <td>2015-01-01 00:20:00</td>\n",
       "      <td>-2.0</td>\n",
       "      <td>False</td>\n",
       "    </tr>\n",
       "    <tr>\n",
       "      <th>2</th>\n",
       "      <td>LAX</td>\n",
       "      <td>MIA</td>\n",
       "      <td>AA</td>\n",
       "      <td>258</td>\n",
       "      <td>2015-01-01 00:20:00</td>\n",
       "      <td>-5.0</td>\n",
       "      <td>False</td>\n",
       "    </tr>\n",
       "    <tr>\n",
       "      <th>4</th>\n",
       "      <td>SFO</td>\n",
       "      <td>MSP</td>\n",
       "      <td>DL</td>\n",
       "      <td>806</td>\n",
       "      <td>2015-01-01 00:25:00</td>\n",
       "      <td>-5.0</td>\n",
       "      <td>False</td>\n",
       "    </tr>\n",
       "    <tr>\n",
       "      <th>6</th>\n",
       "      <td>LAX</td>\n",
       "      <td>CLT</td>\n",
       "      <td>US</td>\n",
       "      <td>2013</td>\n",
       "      <td>2015-01-01 00:30:00</td>\n",
       "      <td>14.0</td>\n",
       "      <td>False</td>\n",
       "    </tr>\n",
       "  </tbody>\n",
       "</table>\n",
       "</div>"
      ],
      "text/plain": [
       "  ORIGIN_AIRPORT DESTINATION_AIRPORT AIRLINE FLIGHT_NUMBER  \\\n",
       "0            LAX                 PBI      AA          2336   \n",
       "1            SFO                 CLT      US           840   \n",
       "2            LAX                 MIA      AA           258   \n",
       "4            SFO                 MSP      DL           806   \n",
       "6            LAX                 CLT      US          2013   \n",
       "\n",
       "  SCHEDULED_DEPARTURE  DEPARTURE_DELAY  IS_DELAYED  \n",
       "0 2015-01-01 00:10:00             -8.0       False  \n",
       "1 2015-01-01 00:20:00             -2.0       False  \n",
       "2 2015-01-01 00:20:00             -5.0       False  \n",
       "4 2015-01-01 00:25:00             -5.0       False  \n",
       "6 2015-01-01 00:30:00             14.0       False  "
      ]
     },
     "execution_count": 2,
     "metadata": {},
     "output_type": "execute_result"
    }
   ],
   "source": [
    "import pandas as pd\n",
    "import numpy as np\n",
    "import warnings\n",
    "\n",
    "warnings.filterwarnings('ignore')\n",
    "\n",
    "# Load data\n",
    "flights_df_raw = pd.read_csv('C:/Users/akama/Downloads/flights.csv', low_memory=False)\n",
    "airports_df = pd.read_csv('C:/Users/akama/Downloads/airports.csv')\n",
    "airlines_df = pd.read_csv('C:/Users/akama/Downloads/airlines.csv')\n",
    "\n",
    "# Data Preprocessing Function\n",
    "def data_preprocess(flights_df):\n",
    "    # Remove rows with missing values\n",
    "    flights_df = flights_df.dropna()\n",
    "\n",
    "    # Filter by specific airports\n",
    "    airports = ['BOS', 'JFK', 'SFO', 'LAX']\n",
    "    flights_df = flights_df[flights_df['ORIGIN_AIRPORT'].isin(airports)]\n",
    "\n",
    "    # Filter out flights with more than 1 day delay\n",
    "    flights_df = flights_df[flights_df['DEPARTURE_DELAY'] <= 1440]\n",
    "\n",
    "    # Convert FLIGHT_NUMBER to string\n",
    "    flights_df['FLIGHT_NUMBER'] = flights_df['FLIGHT_NUMBER'].astype(str)\n",
    "\n",
    "    # Convert SCHEDULED_DEPARTURE to datetime\n",
    "    flights_df['SCHEDULED_DEPARTURE'] = pd.to_datetime(\n",
    "        flights_df[['YEAR', 'MONTH', 'DAY']].astype(str).agg('-'.join, axis=1) +\n",
    "        ' ' +\n",
    "        (flights_df['SCHEDULED_DEPARTURE'] // 100).astype(int).astype(str).str.zfill(2) +\n",
    "        ':' +\n",
    "        (flights_df['SCHEDULED_DEPARTURE'] % 100).astype(int).astype(str).str.zfill(2)\n",
    "    )\n",
    "\n",
    "    # Add IS_DELAYED column\n",
    "    flights_df['IS_DELAYED'] = flights_df['DEPARTURE_DELAY'] >= 15\n",
    "\n",
    "    # Drop unnecessary columns\n",
    "    flights_df.drop(['YEAR', 'MONTH', 'DAY'], axis=1, inplace=True)\n",
    "\n",
    "    return flights_df\n",
    "\n",
    "# Preprocess the flight data\n",
    "flights_df = data_preprocess(flights_df_raw.copy())\n",
    "print(f\"DataFrame Shape after cleaning: {flights_df.shape}\")\n",
    "flights_df.head()"
   ]
  },
  {
   "cell_type": "markdown",
   "id": "0357a73c",
   "metadata": {},
   "source": [
    "### 2. Flight Counts per Airport\n",
    "\n",
    "The ```flights_per_airport``` function merges the flight data with airport information and calculates the number of departing flights per airport."
   ]
  },
  {
   "cell_type": "code",
   "execution_count": 3,
   "id": "6b88e624",
   "metadata": {},
   "outputs": [
    {
     "name": "stdout",
     "output_type": "stream",
     "text": [
      "Number of flights per airport:\n",
      "           NUM_FLIGHTS\n",
      "IATA_CODE             \n",
      "BOS             105276\n",
      "JFK              91933\n",
      "SFO             145951\n",
      "LAX             192584\n"
     ]
    }
   ],
   "source": [
    "# Calculate Number of Flights per Airport\n",
    "def flights_per_airport(flights_df, airports_df):\n",
    "    flights_df = data_preprocess(flights_df)\n",
    "\n",
    "    # Merge with airports data\n",
    "    merged_df = flights_df.merge(airports_df, left_on='ORIGIN_AIRPORT', right_on='IATA_CODE', how='inner')\n",
    "\n",
    "    # Calculate the number of flights per airport\n",
    "    num_flights_df = merged_df.groupby('IATA_CODE').size().reset_index(name='NUM_FLIGHTS')\n",
    "\n",
    "    # Reindex to get counts for specific airports\n",
    "    num_flights_df.set_index('IATA_CODE', inplace=True)\n",
    "    num_flights_df = num_flights_df.reindex(['BOS', 'JFK', 'SFO', 'LAX']).reset_index()\n",
    "    num_flights_df = num_flights_df.set_index(num_flights_df.columns[0])\n",
    "\n",
    "    return num_flights_df\n",
    "\n",
    "# Get the number of flights per airport\n",
    "num_flights_df = flights_per_airport(flights_df_raw.copy(), airports_df.copy())\n",
    "print(f\"Number of flights per airport:\\n{num_flights_df}\")"
   ]
  },
  {
   "cell_type": "markdown",
   "id": "4695ce49",
   "metadata": {},
   "source": [
    "### 3. Top Airlines by Number of Flights and Delay Percentage\n",
    "\n",
    "The ```top_three_airlines``` function identifies the top three airlines based on the number of flights and the least percentage of delays."
   ]
  },
  {
   "cell_type": "code",
   "execution_count": 4,
   "id": "0fa90c49",
   "metadata": {},
   "outputs": [
    {
     "name": "stdout",
     "output_type": "stream",
     "text": [
      "Top three airlines:\n",
      "             AIRLINE_NAME  NUM_FLIGHTS  PERC_DELAY\n",
      "0   United Air Lines Inc.        86562   23.265405\n",
      "1         JetBlue Airways        85920   20.798417\n",
      "2  American Airlines Inc.        77024   15.351059\n"
     ]
    }
   ],
   "source": [
    "# Identify Top Three Airlines by Number of Flights and Delay Percentage\n",
    "def top_three_airlines(flights_df, airlines_df):\n",
    "    flights_df = data_preprocess(flights_df)\n",
    "\n",
    "    # Calculate number of flights per airline\n",
    "    num_flights = flights_df.groupby('AIRLINE')['FLIGHT_NUMBER'].count().reset_index()\n",
    "    num_flights.columns = ['AIRLINE', 'NUM_FLIGHTS']\n",
    "\n",
    "    # Calculate number of delayed flights per airline\n",
    "    num_delayed = flights_df[flights_df['IS_DELAYED']].groupby('AIRLINE')['FLIGHT_NUMBER'].count().reset_index()\n",
    "    num_delayed.columns = ['AIRLINE', 'NUM_DELAYED']\n",
    "\n",
    "    # Merge the counts\n",
    "    merged_df = num_flights.merge(num_delayed, on='AIRLINE', how='left')\n",
    "    merged_df['NUM_DELAYED'] = merged_df['NUM_DELAYED'].fillna(0)\n",
    "\n",
    "    # Calculate percentage of delays\n",
    "    merged_df['PERC_DELAY'] = (merged_df['NUM_DELAYED'] / merged_df['NUM_FLIGHTS']) * 100\n",
    "\n",
    "    # Sort and get top three airlines\n",
    "    sorted_df = merged_df.sort_values(['NUM_FLIGHTS', 'PERC_DELAY'], ascending=[False, True])\n",
    "    top_three_airlines_df = sorted_df.head(3)\n",
    "\n",
    "    # Merge to get airline names\n",
    "    top_three_airlines_df = top_three_airlines_df.merge(airlines_df, left_on='AIRLINE', right_on='IATA_CODE', how='left')\n",
    "    top_three_airlines_df = top_three_airlines_df[['AIRLINE_y', 'NUM_FLIGHTS', 'PERC_DELAY']]\n",
    "    top_three_airlines_df.columns = ['AIRLINE_NAME', 'NUM_FLIGHTS', 'PERC_DELAY']\n",
    "\n",
    "    return top_three_airlines_df\n",
    "\n",
    "# Get top three airlines\n",
    "top_three_airlines_df = top_three_airlines(flights_df_raw.copy(), airlines_df.copy())\n",
    "print(f\"Top three airlines:\\n{top_three_airlines_df}\")"
   ]
  },
  {
   "cell_type": "markdown",
   "id": "0fb3d3a1",
   "metadata": {},
   "source": [
    "### 4. Monthly Percentage of Delays per Airport\n",
    "\n",
    "The ```monthly_airport_delays``` function calculates the monthly percentage of delays for each chosen airport."
   ]
  },
  {
   "cell_type": "code",
   "execution_count": 5,
   "id": "4e381825",
   "metadata": {},
   "outputs": [
    {
     "name": "stdout",
     "output_type": "stream",
     "text": [
      "Monthly percentage of delays per airport:\n",
      "ORIGIN_AIRPORT      MONTH     BOS     JFK     LAX     SFO\n",
      "0                 January  0.1902  0.2257  0.1738  0.2001\n",
      "1                February  0.3248  0.3174  0.1978  0.2222\n",
      "2                   March  0.1984  0.2736  0.2246  0.1770\n",
      "3                   April  0.1553  0.2020  0.1855  0.1756\n",
      "4                     May  0.1552  0.1552  0.1990  0.2297\n",
      "5                    June  0.2032  0.1938  0.2474  0.2374\n",
      "6                    July  0.1968  0.2019  0.2772  0.2430\n",
      "7                  August  0.1988  0.1985  0.2289  0.2118\n",
      "8               September  0.1274  0.1506  0.1486  0.1399\n",
      "9                November  0.1177  0.1383  0.1741  0.1565\n",
      "10               December  0.1982  0.2563  0.2627  0.2990\n"
     ]
    }
   ],
   "source": [
    "# Calculate Monthly Percentage of Delays per Airport\n",
    "def monthly_airport_delays(flights_df):\n",
    "    flights_df = data_preprocess(flights_df)\n",
    "    flights_df['SCHEDULED_DEPARTURE'] = pd.to_datetime(flights_df['SCHEDULED_DEPARTURE'])\n",
    "    flights_df['MONTH'] = flights_df['SCHEDULED_DEPARTURE'].dt.strftime('%B')\n",
    "    \n",
    "    # Calculate mean delay for each origin airport and month\n",
    "    monthly_delays = flights_df.groupby(['ORIGIN_AIRPORT', 'MONTH'])['IS_DELAYED'].mean().round(4).reset_index()\n",
    "    monthly_delays_pivot = monthly_delays.pivot(index='MONTH', columns='ORIGIN_AIRPORT', values='IS_DELAYED')\n",
    "    monthly_delays_df = monthly_delays_pivot.reset_index()\n",
    "\n",
    "    # Sort months in the correct order\n",
    "    month_order = ['January', 'February', 'March', 'April', 'May', 'June', 'July', 'August', 'September', \n",
    "                   'October', 'November', 'December']\n",
    "    \n",
    "    monthly_delays_df['MONTH'] = pd.Categorical(monthly_delays_df['MONTH'], categories=month_order, ordered=True)\n",
    "    monthly_delays_df.sort_values('MONTH', inplace=True)\n",
    "    monthly_delays_df.reset_index(drop=True, inplace=True)\n",
    "\n",
    "    return monthly_delays_df\n",
    "\n",
    "# Get monthly percentage of delays per airport\n",
    "monthly_airport_delays_df = monthly_airport_delays(flights_df_raw.copy())\n",
    "print(f\"Monthly percentage of delays per airport:\\n{monthly_airport_delays_df}\")"
   ]
  }
 ],
 "metadata": {
  "kernelspec": {
   "display_name": "Python 3 (ipykernel)",
   "language": "python",
   "name": "python3"
  },
  "language_info": {
   "codemirror_mode": {
    "name": "ipython",
    "version": 3
   },
   "file_extension": ".py",
   "mimetype": "text/x-python",
   "name": "python",
   "nbconvert_exporter": "python",
   "pygments_lexer": "ipython3",
   "version": "3.9.13"
  }
 },
 "nbformat": 4,
 "nbformat_minor": 5
}
